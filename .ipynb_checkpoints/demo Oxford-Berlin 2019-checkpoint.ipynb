{
 "cells": [
  {
   "cell_type": "code",
   "execution_count": 1,
   "metadata": {},
   "outputs": [],
   "source": [
    "from free_lie_algebra import *"
   ]
  },
  {
   "cell_type": "markdown",
   "metadata": {},
   "source": [
    "# define size of the problem"
   ]
  },
  {
   "cell_type": "code",
   "execution_count": 32,
   "metadata": {},
   "outputs": [],
   "source": [
    "depth = 2\n",
    "width = 3"
   ]
  },
  {
   "cell_type": "markdown",
   "metadata": {},
   "source": [
    "# random Lie elements"
   ]
  },
  {
   "cell_type": "code",
   "execution_count": 42,
   "metadata": {},
   "outputs": [],
   "source": [
    "X = randomLieElt(width, depth)\n",
    "Y = randomLieElt(width, depth)"
   ]
  },
  {
   "cell_type": "code",
   "execution_count": 43,
   "metadata": {},
   "outputs": [
    {
     "data": {
      "text/plain": [
       "E[{}, {1: 0.5306647296400953, 2: 0.34435406055510687, 3: 0.9137229533068675}, {12: 0.296480937391552, 21: -0.296480937391552, 13: -0.634713882293682, 31: 0.634713882293682, 23: 0.20576333909382316, 32: -0.20576333909382316}]"
      ]
     },
     "execution_count": 43,
     "metadata": {},
     "output_type": "execute_result"
    }
   ],
   "source": [
    "X"
   ]
  },
  {
   "cell_type": "code",
   "execution_count": 44,
   "metadata": {},
   "outputs": [
    {
     "data": {
      "text/plain": [
       "'[0.530664729640095]1+[0.344354060555107]2+[0.913722953306867]3+[0.296480937391552]12-[0.634713882293682]13-[0.296480937391552]21+[0.205763339093823]23+[0.634713882293682]31-[0.205763339093823]32'"
      ]
     },
     "execution_count": 44,
     "metadata": {},
     "output_type": "execute_result"
    }
   ],
   "source": [
    "X.pretty()"
   ]
  },
  {
   "cell_type": "markdown",
   "metadata": {},
   "source": [
    "# let's pick a Hall basis: Lyndon "
   ]
  },
  {
   "cell_type": "code",
   "execution_count": 46,
   "metadata": {},
   "outputs": [],
   "source": [
    "Hall_basis = HallBasis(width, depth)"
   ]
  },
  {
   "cell_type": "code",
   "execution_count": 47,
   "metadata": {},
   "outputs": [
    {
     "data": {
      "text/plain": [
       "[[(1,), (2,), (3,)], [((1,), (2,)), ((1,), (3,)), ((2,), (3,))]]"
      ]
     },
     "execution_count": 47,
     "metadata": {},
     "output_type": "execute_result"
    }
   ],
   "source": [
    "Hall_basis.data"
   ]
  },
  {
   "cell_type": "code",
   "execution_count": 48,
   "metadata": {},
   "outputs": [
    {
     "data": {
      "text/plain": [
       "E[{}, {}, {23: 1, 32: -1}]"
      ]
     },
     "execution_count": 48,
     "metadata": {},
     "output_type": "execute_result"
    }
   ],
   "source": [
    "basisElementToElt(Hall_basis.data[1][2])"
   ]
  },
  {
   "cell_type": "markdown",
   "metadata": {},
   "source": [
    "# concatenation and shuffle"
   ]
  },
  {
   "cell_type": "code",
   "execution_count": 49,
   "metadata": {},
   "outputs": [
    {
     "data": {
      "text/plain": [
       "E[{}, {}, {11: 0.13010838457305468, 12: 0.17934738870504913, 13: 0.32044256765430423, 21: 0.08442873256412406, 22: 0.11638045285659865, 23: 0.20793863466543616, 31: 0.2240266042981704, 32: 0.3088085876492939, 33: 0.5517527601295549}, {112: 0.18234313042186243, 121: -0.10965193075068454, 113: 0.2712867248170717, 131: -0.4269058818455236, 123: 0.3806243872903974, 132: -0.4161066107626113, 212: 0.018123524922450562, 221: -0.1183244219333802, 213: -0.0029895101073051378, 231: -0.12559182076562847, 223: 0.13081651767454278, 232: -0.06127521316248867, 312: 0.5284794058174951, 321: -0.36441585147234756, 313: 0.8503867477058062, 331: -0.4671139677229327, 323: 0.22286337193706823, 332: -0.3471138242953139, 122: 0.10020089701092964, 211: -0.07269119967117789, 133: -0.3832727799828735, 311: 0.15561915702845186, 233: 0.12425045235824568, 322: -0.0695413045120541}, {1212: 0.10187460973908884, 1221: -0.10187460973908884, 1213: 0.1515671533892957, 1231: -0.1515671533892957, 1223: 0.11263001726747544, 1232: -0.11263001726747544, 2112: -0.10187460973908884, 2121: 0.10187460973908884, 2113: -0.1515671533892957, 2131: 0.1515671533892957, 2123: -0.11263001726747544, 2132: 0.11263001726747544, 1312: -0.218095738712722, 1321: 0.218095738712722, 1313: -0.32447879179790756, 1331: 0.32447879179790756, 1323: -0.24112118691878084, 1332: 0.24112118691878084, 3112: 0.218095738712722, 3121: -0.218095738712722, 3113: 0.32447879179790756, 3131: -0.32447879179790756, 3123: 0.24112118691878084, 3132: -0.24112118691878084, 2312: 0.0707028925812899, 2321: -0.0707028925812899, 2313: 0.1051904512064451, 2331: -0.1051904512064451, 2323: 0.07816734741547354, 2332: -0.07816734741547354, 3212: -0.0707028925812899, 3221: 0.0707028925812899, 3213: -0.1051904512064451, 3231: 0.1051904512064451, 3223: -0.07816734741547354, 3232: 0.07816734741547354}]"
      ]
     },
     "execution_count": 49,
     "metadata": {},
     "output_type": "execute_result"
    }
   ],
   "source": [
    "concatenationProduct(X, Y)"
   ]
  },
  {
   "cell_type": "code",
   "execution_count": 50,
   "metadata": {},
   "outputs": [
    {
     "data": {
      "text/plain": [
       "E[{}, {}, {11: 0.26021676914610936, 12: 0.26377612126917316, 21: 0.26377612126917316, 13: 0.5444691719524746, 31: 0.5444691719524746, 22: 0.2327609057131973, 23: 0.51674722231473, 32: 0.51674722231473, 33: 1.1035055202591098}, {112: 0.5100686601860807, 211: -0.5100686601860807, 113: 0.23133513557723973, 311: -0.23133513557723973, 123: 0.706568505183226, 213: -0.27942585950733645, 231: -0.20248239234829843, 132: 0.20248239234829843, 312: 0.27942585950733645, 321: -0.706568505183226, 122: 0.4370506378886197, 221: -0.4370506378886197, 223: 0.40071564437319374, 322: -0.40071564437319374, 133: 0.16768237548011838, 331: -0.16768237548011838, 233: 0.9427285533071192, 332: -0.9427285533071192}, {1122: 0.40749843895635535, 1221: -0.40749843895635535, 2112: -0.40749843895635535, 1123: -0.13305717064685263, 1132: -0.13305717064685263, 1231: 0.13305717064685263, 1321: 0.13305717064685263, 3112: 0.13305717064685263, 1223: 0.36666581969753065, 2132: 0.36666581969753065, 2312: 0.36666581969753065, 1322: -0.36666581969753065, 3122: -0.36666581969753065, 2211: 0.40749843895635535, 2113: 0.13305717064685263, 2311: -0.13305717064685263, 3211: -0.13305717064685263, 2213: -0.36666581969753065, 2231: -0.36666581969753065, 3221: 0.36666581969753065, 1133: -1.2979151671916302, 1331: 1.2979151671916302, 3113: 1.2979151671916302, 1233: -0.2718614714246715, 2133: -0.2718614714246715, 1332: 0.2718614714246715, 3123: 0.2718614714246715, 3213: 0.2718614714246715, 3311: -1.2979151671916302, 2331: 0.2718614714246715, 3312: -0.2718614714246715, 3321: -0.2718614714246715, 2233: 0.31266938966189417, 2332: -0.31266938966189417, 3223: -0.31266938966189417, 3322: 0.31266938966189417}]"
      ]
     },
     "execution_count": 50,
     "metadata": {},
     "output_type": "execute_result"
    }
   ],
   "source": [
    "shuffleProduct(X,Y)"
   ]
  },
  {
   "cell_type": "code",
   "execution_count": 54,
   "metadata": {},
   "outputs": [
    {
     "data": {
      "text/plain": [
       "((2,), (3,))"
      ]
     },
     "execution_count": 54,
     "metadata": {},
     "output_type": "execute_result"
    }
   ],
   "source": [
    "Hall_basis.findAsFoliageOfHallWord(\"23\")"
   ]
  },
  {
   "cell_type": "code",
   "execution_count": 55,
   "metadata": {},
   "outputs": [
    {
     "data": {
      "text/plain": [
       "[((2,), (3,))]"
      ]
     },
     "execution_count": 55,
     "metadata": {},
     "output_type": "execute_result"
    }
   ],
   "source": [
    "Hall_basis.factorIntoHallWords('23')"
   ]
  },
  {
   "cell_type": "code",
   "execution_count": 56,
   "metadata": {},
   "outputs": [
    {
     "ename": "ModuleNotFoundError",
     "evalue": "No module named 'tjl_hall_numpy_lie'",
     "output_type": "error",
     "traceback": [
      "\u001b[1;31m---------------------------------------------------------------------------\u001b[0m",
      "\u001b[1;31mModuleNotFoundError\u001b[0m                       Traceback (most recent call last)",
      "\u001b[1;32m<ipython-input-56-78821b745455>\u001b[0m in \u001b[0;36m<module>\u001b[1;34m\u001b[0m\n\u001b[0;32m      4\u001b[0m \u001b[1;31m#\u001b[0m\u001b[1;33m\u001b[0m\u001b[1;33m\u001b[0m\u001b[0m\n\u001b[0;32m      5\u001b[0m \u001b[1;32mfrom\u001b[0m \u001b[0mtjl_dense_numpy_tensor\u001b[0m \u001b[1;32mimport\u001b[0m \u001b[0mtensor_log\u001b[0m\u001b[1;33m,\u001b[0m \u001b[0mtensor_multiply\u001b[0m\u001b[1;33m,\u001b[0m \u001b[0mtensor_exp\u001b[0m\u001b[1;33m,\u001b[0m \u001b[0mstream2sigtensor\u001b[0m\u001b[1;33m,\u001b[0m \u001b[0mbrownian\u001b[0m\u001b[1;33m\u001b[0m\u001b[0m\n\u001b[1;32m----> 6\u001b[1;33m \u001b[1;32mfrom\u001b[0m \u001b[0mtjl_hall_numpy_lie\u001b[0m \u001b[1;32mimport\u001b[0m \u001b[0mhall_basis\u001b[0m\u001b[1;33m,\u001b[0m \u001b[0ml2t\u001b[0m\u001b[1;33m,\u001b[0m \u001b[0mt2l\u001b[0m\u001b[1;33m\u001b[0m\u001b[0m\n\u001b[0m\u001b[0;32m      7\u001b[0m \u001b[1;32mimport\u001b[0m \u001b[0mtjl_hall_numpy_lie\u001b[0m\u001b[1;33m\u001b[0m\u001b[0m\n\u001b[0;32m      8\u001b[0m \u001b[1;32mimport\u001b[0m \u001b[0mtjl_dense_numpy_tensor\u001b[0m\u001b[1;33m\u001b[0m\u001b[0m\n",
      "\u001b[1;31mModuleNotFoundError\u001b[0m: No module named 'tjl_hall_numpy_lie'"
     ]
    }
   ],
   "source": [
    "import numpy as np\n",
    "#from tjl_dense_numpy_tensor import *\n",
    "#from tjl_hall_numpy_lie import *\n",
    "#\n",
    "from tjl_dense_numpy_tensor import tensor_log, tensor_multiply, tensor_exp, stream2sigtensor, brownian\n",
    "from tjl_hall_numpy_lie import hall_basis, l2t, t2l\n",
    "import tjl_hall_numpy_lie\n",
    "import tjl_dense_numpy_tensor\n",
    "import tosig as ts\n",
    "from esig import tosig as ets\n",
    "import tjl_timer\n",
    "\n",
    "def cbh (l1, l2, depth, width):\n",
    "    t2l(\n",
    "        tensor_log(\n",
    "            tensor_multiply(\n",
    "                tensor_exp(\n",
    "                    l2t(\n",
    "                        l1,width,depth\n",
    "                        ),depth\n",
    "                    ),\n",
    "                tensor_exp(\n",
    "                    l2t(\n",
    "                        l1,width,depth\n",
    "                        ),depth\n",
    "                    ),depth\n",
    "                ),depth\n",
    "            )\n",
    "        )"
   ]
  },
  {
   "cell_type": "code",
   "execution_count": null,
   "metadata": {},
   "outputs": [],
   "source": []
  }
 ],
 "metadata": {
  "kernelspec": {
   "display_name": "Python 3",
   "language": "python",
   "name": "python3"
  },
  "language_info": {
   "codemirror_mode": {
    "name": "ipython",
    "version": 3
   },
   "file_extension": ".py",
   "mimetype": "text/x-python",
   "name": "python",
   "nbconvert_exporter": "python",
   "pygments_lexer": "ipython3",
   "version": "3.6.5"
  }
 },
 "nbformat": 4,
 "nbformat_minor": 2
}
