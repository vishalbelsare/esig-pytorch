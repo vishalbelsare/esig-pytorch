{
 "cells": [
  {
   "cell_type": "code",
   "execution_count": 2,
   "metadata": {},
   "outputs": [],
   "source": [
    "import iisignature\n",
    "from esig import tosig\n",
    "import pandas as pd\n",
    "import numpy as np\n",
    "import matplotlib.pyplot as plt\n",
    "import time"
   ]
  },
  {
   "cell_type": "code",
   "execution_count": 3,
   "metadata": {},
   "outputs": [],
   "source": [
    "path_dims = np.arange(2, 5)\n",
    "sig_depths = np.arange(2, 6)\n",
    "\n",
    "path_lengths = [10, 100, 1000]\n",
    "how_many = 10"
   ]
  },
  {
   "cell_type": "code",
   "execution_count": null,
   "metadata": {},
   "outputs": [],
   "source": [
    "fig, axes = plt.subplots(ncols=len(path_lengths), nrows=len(path_dims))\n",
    "\n",
    "k = 0\n",
    "\n",
    "for width in path_dims:\n",
    "    for path_length in path_lengths:\n",
    "\n",
    "        paths = [np.random.rand(width, path_length) for n in range(how_many)]\n",
    "\n",
    "        df = pd.DataFrame()\n",
    "\n",
    "        time_iisig = []\n",
    "        time_esig = []\n",
    "\n",
    "        for depth in sig_depths:\n",
    "\n",
    "            t = time.time()\n",
    "            sigs = [iisignature.sig(path, depth) for path in paths]\n",
    "            time_iisig.append(time.time() - t)\n",
    "\n",
    "            t = time.time()\n",
    "            sigs = [tosig.stream2sig(path, depth) for path in paths]\n",
    "            time_esig.append(time.time() - t)\n",
    "\n",
    "        df['esig'] = time_esig \n",
    "        df['iisignature'] = time_iisig\n",
    "\n",
    "        df.plot(title=f'width: {width}, samples: {path_length}', ax=axes.flat[k],\n",
    "                style=['bs--','ro--'], lw=2, alpha=0.8, figsize=(15,12))\n",
    "        \n",
    "        axes.flat[k].set_xlabel('depth')\n",
    "        axes.flat[k].set_ylabel('seconds')\n",
    "        k+=1\n",
    "        \n",
    "plt.subplots_adjust(hspace=0.5, wspace=0.5)\n",
    "plt.show()"
   ]
  },
  {
   "cell_type": "code",
   "execution_count": null,
   "metadata": {},
   "outputs": [],
   "source": []
  },
  {
   "cell_type": "code",
   "execution_count": null,
   "metadata": {},
   "outputs": [],
   "source": []
  }
 ],
 "metadata": {
  "kernelspec": {
   "display_name": "Python 3",
   "language": "python",
   "name": "python3"
  },
  "language_info": {
   "codemirror_mode": {
    "name": "ipython",
    "version": 3
   },
   "file_extension": ".py",
   "mimetype": "text/x-python",
   "name": "python",
   "nbconvert_exporter": "python",
   "pygments_lexer": "ipython3",
   "version": "3.6.5"
  }
 },
 "nbformat": 4,
 "nbformat_minor": 2
}
